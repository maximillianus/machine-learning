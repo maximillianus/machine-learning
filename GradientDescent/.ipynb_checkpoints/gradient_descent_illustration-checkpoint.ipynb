{
 "cells": [
  {
   "cell_type": "code",
   "execution_count": 5,
   "metadata": {},
   "outputs": [],
   "source": [
    "import matplotlib.pyplot as plt\n",
    "import numpy as np"
   ]
  },
  {
   "cell_type": "code",
   "execution_count": 52,
   "metadata": {},
   "outputs": [],
   "source": [
    "# Sample code\n",
    "\n",
    "def simple_plot():\n",
    "    plt.plot([1,2,3,4])\n",
    "    plt.ylabel('some numbers')\n",
    "    plt.show()\n",
    "\n",
    "def simple_xy():\n",
    "    x = np.arange(-10,10, step = 1)\n",
    "    y = np.arange(5, step =0.25)\n",
    "    plt.plot(x,y)\n",
    "    plt.show()\n",
    "\n",
    "def simple_linear_func(x):\n",
    "    # x must be numpy or list\n",
    "    y = 2 * x\n",
    "    plt.plot(x,y)\n",
    "    plt.show()\n",
    "\n",
    "def simple_quad_func(x):\n",
    "    # x must be numpy or list\n",
    "    y = x ** 2\n",
    "    plt.plot(x,y)\n",
    "    plt.show()\n",
    "\n",
    "def simple_log_func(x):\n",
    "    # x must be numpy or list\n",
    "    y = np.log10(x)\n",
    "    plt.plot(x,y)\n",
    "    plt.show()\n",
    "    \n",
    "def simple_exp_func(x):\n",
    "    # x must be numpy or list\n",
    "    y = np.exp(x)\n",
    "    plt.plot(x,y)\n",
    "    plt.show()"
   ]
  },
  {
   "cell_type": "code",
   "execution_count": 61,
   "metadata": {},
   "outputs": [
    {
     "data": {
      "image/png": "[encoded data removed]",
      "text/plain": [
       "<Figure size 432x288 with 1 Axes>"
      ]
     },
     "metadata": {
      "needs_background": "light"
     },
     "output_type": "display_data"
    }
   ],
   "source": [
    "# Show functions\n",
    "simple_exp_func(np.arange(10))\n"
   ]
  },
  {
   "cell_type": "code",
   "execution_count": 152,
   "metadata": {},
   "outputs": [
    {
     "data": {
      "text/plain": [
       "array([1., 1., 1., 1., 1.])"
      ]
     },
     "execution_count": 152,
     "metadata": {},
     "output_type": "execute_result"
    }
   ],
   "source": [
    "np.gradient([2,3,4,5,6])"
   ]
  },
  {
   "cell_type": "code",
   "execution_count": 186,
   "metadata": {},
   "outputs": [
    {
     "name": "stdout",
     "output_type": "stream",
     "text": [
      "Final Iteration: 49\n",
      "Final x_0 -2.9999643188076823\n"
     ]
    }
   ],
   "source": [
    "# Gradient Descent\n",
    "x = np.arange(-5,5)\n",
    "f_x = lambda x: (x + 3) ** 2 # local minima at -3\n",
    "df_x = lambda x: 2 * (x + 3)\n",
    "# df_x= lambda x: np.gradient()\n",
    "\n",
    "learning_rate = 0.1\n",
    "\n",
    "# gradient descent formula\n",
    "# x_i1 = x_i0 - learning_rate * dy_dx\n",
    "def new_x(current_x, rate, dy_dx):\n",
    "    return current_x - (rate) * dy_dx(current_x)\n",
    "\n",
    "# Try on 1 iteration gradient descent\n",
    "# When to stop?\n",
    "x_0 = -1\n",
    "iters = 0\n",
    "max_iters = 1000\n",
    "iters_list = []\n",
    "diff_step_size = 1\n",
    "diff_step_size_list = []\n",
    "precision = 0.00001\n",
    "while diff_step_size > precision and iters < max_iters:\n",
    "    iters_list.append(iters)\n",
    "    #print('Iteration:', iters)\n",
    "    prev_x = x_0\n",
    "    x_0 = new_x(prev_x, learning_rate, df_x)\n",
    "    diff_step_size = abs(x_0 - prev_x)\n",
    "    diff_step_size_list.append(diff_step_size)\n",
    "    #print('Current_x=', prev_x,'| New_x =', x_0, '| difference in step =', diff_step_size)\n",
    "    #print()\n",
    "    iters += 1\n",
    "print('Final Iteration:', iters)\n",
    "print('Final x_0', x_0)\n",
    "    "
   ]
  },
  {
   "cell_type": "code",
   "execution_count": 180,
   "metadata": {},
   "outputs": [
    {
     "data": {
      "image/png": "[encoded data removed]",
      "text/plain": [
       "<Figure size 432x288 with 1 Axes>"
      ]
     },
     "metadata": {
      "needs_background": "light"
     },
     "output_type": "display_data"
    }
   ],
   "source": [
    "plt.plot(iters_list, diff_step_size_list)\n",
    "plt.show()"
   ]
  },
  {
   "cell_type": "code",
   "execution_count": 115,
   "metadata": {},
   "outputs": [
    {
     "data": {
      "text/plain": [
       "0.3184713375796178"
      ]
     },
     "execution_count": 115,
     "metadata": {},
     "output_type": "execute_result"
    }
   ],
   "source": [
    "# Up there we see the gradient keeps descending and approaching 0 at around 600th iteration wen x starts at 1\n",
    "# The more precision needed, the more iteration it require\n",
    "# The bigger the learning rate, the less iteration it requires but the descent might miss the mark\n",
    "\n",
    "# Conclusion: Play around with precision and learning rate to optimize. Starting point doesn't\n",
    "# actually matter in the case of quadratic function"
   ]
  },
  {
   "cell_type": "code",
   "execution_count": null,
   "metadata": {},
   "outputs": [],
   "source": []
  }
 ],
 "metadata": {
  "kernelspec": {
   "display_name": "Python 3",
   "language": "python",
   "name": "python3"
  },
  "language_info": {
   "codemirror_mode": {
    "name": "ipython",
    "version": 3
   },
   "file_extension": ".py",
   "mimetype": "text/x-python",
   "name": "python",
   "nbconvert_exporter": "python",
   "pygments_lexer": "ipython3",
   "version": "3.6.6"
  }
 },
 "nbformat": 4,
 "nbformat_minor": 2
}
