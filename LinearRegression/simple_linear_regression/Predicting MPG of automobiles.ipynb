{
 "cells": [
  {
   "cell_type": "markdown",
   "metadata": {},
   "source": [
    "# Simple Linear Regression\n",
    "\n",
    "## Predicting MPG of automobiles\n",
    "--------------------------------\n",
    "- Dataset used: Automobile MPG\n",
    "- Source of data: https://archive.ics.uci.edu/ml/machine-learning-databases/auto-mpg/\n",
    "- Machine Learning method: Simple Linear Regression\n",
    "- Dataset explanation:\n",
    "    - auto-mpg.data : cleaned dataset with missing values filled\n",
    "    - auto-mpg.data-original : raw dataset containing missing values\n",
    "    - auto-mpg.names : detailed description of the dataset\n",
    "\n",
    "- Context:\n",
    "    - In order to make this tutorial to be more meaningful, we will need to understand the context of data as well as the goal of this exercise. This data contains city-use fuel consumption of each specified vehicles in miles per gallon unit. Let us see if we can predict the mpg of a car from either its weight. **We want to see of weight of a car has any effect on its fuel consumption**.\n",
    "- Goal:\n",
    "    - Answering the question \"**Can we predict the fuel consumption of a car based on its weight?**\"\n",
    "    \n",
    "    \n",
    "- Some quick tips for jupyter notebook\n",
    "    - green bar at the left indicates you're in EDITING mode\n",
    "    - blue bar at the left indicates you're in CELL NAVIGATION mode\n",
    "    - Press **m** in CELL NAVIGATION mode to turn a cell into markdown (you can write your note in this mode)\n",
    "    - Press **y** in CELL NAVIGATION mode to turn a cell into code (you can code in this mode)\n",
    "    - Alternatively, go to the menu bar and choose **Cell -> Cell Type -> Code / Markdown** to convert cell to either markdown or code"
   ]
  },
  {
   "cell_type": "code",
   "execution_count": 2,
   "metadata": {},
   "outputs": [],
   "source": [
    "# Importing library\n",
    "\n",
    "# `! pip3 install pandas` in one of the cell if you do not have pandas installed.\n",
    "import pandas as pd  # for the dataframe\n"
   ]
  },
  {
   "cell_type": "code",
   "execution_count": 20,
   "metadata": {},
   "outputs": [],
   "source": [
    "# Dataset sources\n",
    "\n",
    "# Specify the dataset dir using variable so \n",
    "# it's easier when we need to move the dataset around\n",
    "dataset_dir = './dataset/'\n",
    "\n",
    "# list the available datasets using dictionary for easier reference\n",
    "filenames = {\n",
    "    'raw_data': 'auto-mpg.data-original',\n",
    "    'clean_data': 'auto-mpg.data',\n",
    "}\n"
   ]
  },
  {
   "cell_type": "code",
   "execution_count": 51,
   "metadata": {},
   "outputs": [],
   "source": [
    "# Read data\n",
    "\n",
    "# The information is taken from auto-mpg.names file\n",
    "\"\"\"\n",
    "Attribute Information:\n",
    "\n",
    "    1. mpg:           continuous\n",
    "    2. cylinders:     multi-valued discrete\n",
    "    3. displacement:  continuous\n",
    "    4. horsepower:    continuous\n",
    "    5. weight:        continuous\n",
    "    6. acceleration:  continuous\n",
    "    7. model year:    multi-valued discrete\n",
    "    8. origin:        multi-valued discrete\n",
    "    9. car name:      string (unique for each instance)\n",
    "\"\"\"\n",
    "\n",
    "# specify the column name here.\n",
    "colnames = [\n",
    "    'mpg',\n",
    "    'cylinders',\n",
    "    'displacement',\n",
    "    'horsepower',\n",
    "    'weight',\n",
    "    'acceleration',\n",
    "    'model year',\n",
    "    'origin',\n",
    "    'car name'\n",
    "]\n",
    "\n",
    "# read the actual dataset here\n",
    "df = pd.read_csv(dataset_dir + filenames['clean_data'],\n",
    "                 delim_whitespace=True, # use whitespace as delimiter\n",
    "                 header=None, # no column names in the dataaset\n",
    "                 names=colnames # use our own specified column names\n",
    "                ) \n"
   ]
  },
  {
   "cell_type": "code",
   "execution_count": 52,
   "metadata": {},
   "outputs": [],
   "source": [
    "# Light cleaning of the data. \n",
    "\n",
    "# Horsepower column has some missing values and in string format\n",
    "# Let's remove rows with missing values and format it into numeric\n",
    "\n",
    "# code below basically means, remove all rows that contain '?' in horsepower column\n",
    "df = df[~df.horsepower.str.contains('\\?')]\n",
    "df['horsepower'] = df['horsepower'].astype(float)"
   ]
  },
  {
   "cell_type": "code",
   "execution_count": 53,
   "metadata": {},
   "outputs": [
    {
     "name": "stdout",
     "output_type": "stream",
     "text": [
      "<class 'pandas.core.frame.DataFrame'>\n",
      "Int64Index: 392 entries, 0 to 397\n",
      "Data columns (total 9 columns):\n",
      "mpg             392 non-null float64\n",
      "cylinders       392 non-null int64\n",
      "displacement    392 non-null float64\n",
      "horsepower      392 non-null float64\n",
      "weight          392 non-null float64\n",
      "acceleration    392 non-null float64\n",
      "model year      392 non-null int64\n",
      "origin          392 non-null int64\n",
      "car name        392 non-null object\n",
      "dtypes: float64(5), int64(3), object(1)\n",
      "memory usage: 30.6+ KB\n"
     ]
    },
    {
     "data": {
      "text/plain": [
       "None"
      ]
     },
     "metadata": {},
     "output_type": "display_data"
    },
    {
     "name": "stdout",
     "output_type": "stream",
     "text": [
      "Shape of dataframe: (392, 9)\n"
     ]
    }
   ],
   "source": [
    "# Check information and shape of the dataframe\n",
    "\n",
    "display(df.info())\n",
    "print(\"Shape of dataframe:\", df.shape)"
   ]
  },
  {
   "cell_type": "code",
   "execution_count": 64,
   "metadata": {},
   "outputs": [
    {
     "data": {
      "text/html": [
       "<div>\n",
       "<style scoped>\n",
       "    .dataframe tbody tr th:only-of-type {\n",
       "        vertical-align: middle;\n",
       "    }\n",
       "\n",
       "    .dataframe tbody tr th {\n",
       "        vertical-align: top;\n",
       "    }\n",
       "\n",
       "    .dataframe thead th {\n",
       "        text-align: right;\n",
       "    }\n",
       "</style>\n",
       "<table border=\"1\" class=\"dataframe\">\n",
       "  <thead>\n",
       "    <tr style=\"text-align: right;\">\n",
       "      <th></th>\n",
       "      <th>mpg</th>\n",
       "      <th>cylinders</th>\n",
       "      <th>displacement</th>\n",
       "      <th>horsepower</th>\n",
       "      <th>weight</th>\n",
       "      <th>acceleration</th>\n",
       "      <th>model year</th>\n",
       "      <th>origin</th>\n",
       "      <th>car name</th>\n",
       "    </tr>\n",
       "  </thead>\n",
       "  <tbody>\n",
       "    <tr>\n",
       "      <th>0</th>\n",
       "      <td>18.0</td>\n",
       "      <td>8</td>\n",
       "      <td>307.0</td>\n",
       "      <td>130.0</td>\n",
       "      <td>3504.0</td>\n",
       "      <td>12.0</td>\n",
       "      <td>70</td>\n",
       "      <td>1</td>\n",
       "      <td>chevrolet chevelle malibu</td>\n",
       "    </tr>\n",
       "    <tr>\n",
       "      <th>1</th>\n",
       "      <td>15.0</td>\n",
       "      <td>8</td>\n",
       "      <td>350.0</td>\n",
       "      <td>165.0</td>\n",
       "      <td>3693.0</td>\n",
       "      <td>11.5</td>\n",
       "      <td>70</td>\n",
       "      <td>1</td>\n",
       "      <td>buick skylark 320</td>\n",
       "    </tr>\n",
       "    <tr>\n",
       "      <th>2</th>\n",
       "      <td>18.0</td>\n",
       "      <td>8</td>\n",
       "      <td>318.0</td>\n",
       "      <td>150.0</td>\n",
       "      <td>3436.0</td>\n",
       "      <td>11.0</td>\n",
       "      <td>70</td>\n",
       "      <td>1</td>\n",
       "      <td>plymouth satellite</td>\n",
       "    </tr>\n",
       "  </tbody>\n",
       "</table>\n",
       "</div>"
      ],
      "text/plain": [
       "    mpg  cylinders  displacement  horsepower  weight  acceleration  \\\n",
       "0  18.0          8         307.0       130.0  3504.0          12.0   \n",
       "1  15.0          8         350.0       165.0  3693.0          11.5   \n",
       "2  18.0          8         318.0       150.0  3436.0          11.0   \n",
       "\n",
       "   model year  origin                   car name  \n",
       "0          70       1  chevrolet chevelle malibu  \n",
       "1          70       1          buick skylark 320  \n",
       "2          70       1         plymouth satellite  "
      ]
     },
     "execution_count": 64,
     "metadata": {},
     "output_type": "execute_result"
    }
   ],
   "source": [
    "# Take a peek into the dataframe to see how the values look\n",
    "df.head(3)"
   ]
  },
  {
   "cell_type": "code",
   "execution_count": 140,
   "metadata": {},
   "outputs": [
    {
     "data": {
      "text/plain": [
       "<matplotlib.axes._subplots.AxesSubplot at 0x121d9c7b8>"
      ]
     },
     "execution_count": 140,
     "metadata": {},
     "output_type": "execute_result"
    },
    {
     "data": {
      "image/png": "[encoded data removed]",
      "text/plain": [
       "<Figure size 432x288 with 1 Axes>"
      ]
     },
     "metadata": {},
     "output_type": "display_data"
    }
   ],
   "source": [
    "# Get a better feel of our automobile data by visualizing them\n",
    "\n",
    "df.plot(x='weight', y='mpg', kind='scatter')\n"
   ]
  },
  {
   "cell_type": "markdown",
   "metadata": {},
   "source": [
    "Looking at the scatter plot, there seems to be a negative linear relationship between weight <> mpg. Simple linear regression will be able to model this linear relationship well. Let us model this relationship using simple linear regression to better predict the fuel consumption of a car (MPG) given the weight."
   ]
  },
  {
   "cell_type": "code",
   "execution_count": 89,
   "metadata": {},
   "outputs": [],
   "source": [
    "# importing sklearn library\n",
    "# `! pip3 install sklearn` in one of the cell if you do not have sklearn installed.\n",
    "\n",
    "# linear_model is where the collection of linear machine learning model located\n",
    "from sklearn import linear_model\n",
    "\n",
    "# train_test_split is useful to split data into train and test set\n",
    "from sklearn.model_selection import train_test_split\n",
    "\n",
    "# numpy is needed to create dataset to do test prediction\n",
    "import numpy as np"
   ]
  },
  {
   "cell_type": "code",
   "execution_count": 90,
   "metadata": {},
   "outputs": [],
   "source": [
    "# specify data into X and y variable\n",
    "\n",
    "# reshape is required here as the requirement for input_data to model\n",
    "X = df.weight.values.reshape(-1,1)\n",
    "y = df.mpg"
   ]
  },
  {
   "cell_type": "code",
   "execution_count": 91,
   "metadata": {},
   "outputs": [],
   "source": [
    "X_train, X_test, y_train, y_test = train_test_split(X, y, test_size=0.2, random_state=13)"
   ]
  },
  {
   "cell_type": "code",
   "execution_count": 92,
   "metadata": {},
   "outputs": [
    {
     "data": {
      "text/plain": [
       "LinearRegression(copy_X=True, fit_intercept=True, n_jobs=None,\n",
       "         normalize=False)"
      ]
     },
     "execution_count": 92,
     "metadata": {},
     "output_type": "execute_result"
    }
   ],
   "source": [
    "model = linear_model.LinearRegression()\n",
    "model.fit(X_train, y_train)"
   ]
  },
  {
   "cell_type": "code",
   "execution_count": 126,
   "metadata": {
    "scrolled": true
   },
   "outputs": [],
   "source": [
    "# Make prediction based on the model\n",
    "y_predict = model.predict(X_test)"
   ]
  },
  {
   "cell_type": "code",
   "execution_count": 141,
   "metadata": {},
   "outputs": [
    {
     "data": {
      "text/html": [
       "<div>\n",
       "<style scoped>\n",
       "    .dataframe tbody tr th:only-of-type {\n",
       "        vertical-align: middle;\n",
       "    }\n",
       "\n",
       "    .dataframe tbody tr th {\n",
       "        vertical-align: top;\n",
       "    }\n",
       "\n",
       "    .dataframe thead th {\n",
       "        text-align: right;\n",
       "    }\n",
       "</style>\n",
       "<table border=\"1\" class=\"dataframe\">\n",
       "  <thead>\n",
       "    <tr style=\"text-align: right;\">\n",
       "      <th></th>\n",
       "      <th>X_test</th>\n",
       "      <th>y_actual</th>\n",
       "      <th>y_predict</th>\n",
       "      <th>sqrt_error</th>\n",
       "    </tr>\n",
       "  </thead>\n",
       "  <tbody>\n",
       "    <tr>\n",
       "      <th>0</th>\n",
       "      <td>2962.0</td>\n",
       "      <td>18.0</td>\n",
       "      <td>23.716319</td>\n",
       "      <td>5.716319</td>\n",
       "    </tr>\n",
       "    <tr>\n",
       "      <th>1</th>\n",
       "      <td>2904.0</td>\n",
       "      <td>23.0</td>\n",
       "      <td>24.164527</td>\n",
       "      <td>1.164527</td>\n",
       "    </tr>\n",
       "    <tr>\n",
       "      <th>2</th>\n",
       "      <td>4209.0</td>\n",
       "      <td>14.0</td>\n",
       "      <td>14.079842</td>\n",
       "      <td>0.079842</td>\n",
       "    </tr>\n",
       "    <tr>\n",
       "      <th>3</th>\n",
       "      <td>4382.0</td>\n",
       "      <td>11.0</td>\n",
       "      <td>12.742945</td>\n",
       "      <td>1.742945</td>\n",
       "    </tr>\n",
       "    <tr>\n",
       "      <th>4</th>\n",
       "      <td>2124.0</td>\n",
       "      <td>18.0</td>\n",
       "      <td>30.192155</td>\n",
       "      <td>12.192155</td>\n",
       "    </tr>\n",
       "  </tbody>\n",
       "</table>\n",
       "</div>"
      ],
      "text/plain": [
       "   X_test  y_actual  y_predict  sqrt_error\n",
       "0  2962.0      18.0  23.716319    5.716319\n",
       "1  2904.0      23.0  24.164527    1.164527\n",
       "2  4209.0      14.0  14.079842    0.079842\n",
       "3  4382.0      11.0  12.742945    1.742945\n",
       "4  2124.0      18.0  30.192155   12.192155"
      ]
     },
     "execution_count": 141,
     "metadata": {},
     "output_type": "execute_result"
    }
   ],
   "source": [
    "# Get all the prediction and actual results into a table\n",
    "result_table = pd.DataFrame({\n",
    "    'X_test': X_test.flatten(), # np.flatten() to reshape data from 2D to 1D\n",
    "    'y_actual': y_test.values,\n",
    "    'y_predict': y_predict\n",
    "})\n",
    "\n",
    "# Calculate the error in prediction using squared error method\n",
    "def squared_error(x1, x2):\n",
    "    return np.sqrt((x1-x2)**2 )\n",
    "\n",
    "result_table['sqrt_error'] = result_table.apply(lambda x: squared_error(x.y_actual, x.y_predict), axis=1)\n",
    "\n",
    "# Let's take a peek of the resulting table\n",
    "result_table.head()"
   ]
  },
  {
   "cell_type": "code",
   "execution_count": 139,
   "metadata": {},
   "outputs": [
    {
     "name": "stdout",
     "output_type": "stream",
     "text": [
      "Average Error: 3.2594498318294507\n"
     ]
    }
   ],
   "source": [
    "# Average error in prediction (or more commonly known as MSE - Mean Squared Error)\n",
    "print('Average Error:', result_table.sqrt_error.mean())"
   ]
  },
  {
   "cell_type": "markdown",
   "metadata": {},
   "source": [
    "Conclusion\n",
    "---------------\n",
    "\n",
    "We can see that using a very simple linear regression, we manage to do prediction with error margin of 3.25 mpg. This is quite close to zero (*Zero would mean our prediction is unbelievably 100% correct*) and is considered good although there is still room of improvement.\n",
    "\n",
    "We can interpret it this way: This exercise shows that **the heavier a car is, the more fuel it will consume and thus it will need more gallons of fuel to go for longer miles (or distance)**.\n",
    "\n",
    "Next, we can think on how to improve this further. \n",
    "- How to improve the prediction accuracy? \n",
    "- What parameters can we tune? \n",
    "- Some cars have higher margin of error than the others. Why is that? Is there possibly other factor affecting MPG? \n",
    "- Can we add more independent variable (or predictor variable) to increase the accuracy?"
   ]
  },
  {
   "cell_type": "code",
   "execution_count": null,
   "metadata": {},
   "outputs": [],
   "source": []
  }
 ],
 "metadata": {
  "kernelspec": {
   "display_name": "Python 3",
   "language": "python",
   "name": "python3"
  },
  "language_info": {
   "codemirror_mode": {
    "name": "ipython",
    "version": 3
   },
   "file_extension": ".py",
   "mimetype": "text/x-python",
   "name": "python",
   "nbconvert_exporter": "python",
   "pygments_lexer": "ipython3",
   "version": "3.6.3"
  },
  "toc": {
   "base_numbering": 1,
   "nav_menu": {},
   "number_sections": false,
   "sideBar": true,
   "skip_h1_title": false,
   "title_cell": "Table of Contents",
   "title_sidebar": "Contents",
   "toc_cell": false,
   "toc_position": {},
   "toc_section_display": true,
   "toc_window_display": true
  }
 },
 "nbformat": 4,
 "nbformat_minor": 2
}
